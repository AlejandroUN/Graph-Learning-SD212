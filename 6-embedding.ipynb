{
 "cells": [
  {
   "cell_type": "markdown",
   "metadata": {},
   "source": [
    "# SD212: Graph Learning\n",
    "## Lab 6: Spectral Embedding\n",
    "\n",
    "In this lab, you will learn to embed the nodes of a graph in a vector space of low dimension. We consider the  embedding based on the top eigenvectors of the transition matrix $P=D^{-1}A$."
   ]
  },
  {
   "cell_type": "markdown",
   "metadata": {},
   "source": [
    "## Import"
   ]
  },
  {
   "cell_type": "code",
   "execution_count": 1,
   "metadata": {},
   "outputs": [],
   "source": [
    "from IPython.display import SVG"
   ]
  },
  {
   "cell_type": "code",
   "execution_count": 2,
   "metadata": {},
   "outputs": [],
   "source": [
    "import numpy as np\n",
    "from scipy import sparse\n",
    "from matplotlib import pyplot as plt"
   ]
  },
  {
   "cell_type": "code",
   "execution_count": 3,
   "metadata": {},
   "outputs": [],
   "source": [
    "from sknetwork.data import load_netset, karate_club\n",
    "from sknetwork.embedding import Spectral\n",
    "from sknetwork.ranking import PageRank\n",
    "from sknetwork.visualization import visualize_graph"
   ]
  },
  {
   "cell_type": "markdown",
   "metadata": {},
   "source": [
    "## Data"
   ]
  },
  {
   "cell_type": "markdown",
   "metadata": {},
   "source": [
    "We will work on the following graphs (see the [NetSet](https://netset.telecom-paris.fr/) collection for details):\n",
    "* Openflights (graph)\n",
    "* WikiVitals (directed graph and bipartite graph)"
   ]
  },
  {
   "cell_type": "code",
   "execution_count": 4,
   "metadata": {},
   "outputs": [
    {
     "name": "stdout",
     "output_type": "stream",
     "text": [
      "Parsing files...\n",
      "Done.\n",
      "Parsing files...\n",
      "Done.\n"
     ]
    }
   ],
   "source": [
    "openflights = load_netset('openflights')\n",
    "wikivitals = load_netset('wikivitals')"
   ]
  },
  {
   "cell_type": "markdown",
   "metadata": {},
   "source": [
    "## 1. Graphs"
   ]
  },
  {
   "cell_type": "markdown",
   "metadata": {},
   "source": [
    "## Karate Club\n"
   ]
  },
  {
   "cell_type": "markdown",
   "metadata": {},
   "source": [
    "We first consider the spectral embedding of the [karate club graph](https://en.wikipedia.org/wiki/Zachary%27s_karate_club)."
   ]
  },
  {
   "cell_type": "code",
   "execution_count": 5,
   "metadata": {},
   "outputs": [],
   "source": [
    "dataset = karate_club(metadata=True)"
   ]
  },
  {
   "cell_type": "code",
   "execution_count": 6,
   "metadata": {},
   "outputs": [],
   "source": [
    "adjacency = dataset.adjacency\n",
    "position = dataset.position\n",
    "labels_true = dataset.labels"
   ]
  },
  {
   "cell_type": "code",
   "execution_count": 25,
   "metadata": {},
   "outputs": [
    {
     "name": "stdout",
     "output_type": "stream",
     "text": [
      "(5, 6)\n"
     ]
    }
   ],
   "source": [
    "\n",
    "from sklearn.metrics.pairwise import cosine_similarity\n",
    "from sknetwork.visualization import svg_graph\n",
    "\n",
    "# Compute the spectral embedding\n",
    "spectral = Spectral(n_components=3)\n",
    "embedding = spectral.fit_transform(adjacency)\n",
    "\n",
    "# Compute the cosine similarity matrix\n",
    "cos_sim = cosine_similarity(embedding)\n",
    "\n",
    "# Find the pair of nodes with the highest cosine similarity\n",
    "np.fill_diagonal(cos_sim, -1)  # Ignore self-similarity\n",
    "closest_pair = np.unravel_index(np.argmax(cos_sim), cos_sim.shape)\n",
    "\n",
    "# Visualize the graph with highlighted closest pair\n",
    "highlighted_edges = [(closest_pair[0], closest_pair[1])]\n",
    "print(closest_pair)"
   ]
  },
  {
   "cell_type": "code",
   "execution_count": 8,
   "metadata": {},
   "outputs": [
    {
     "data": {
      "image/svg+xml": [
       "<svg xmlns=\"http://www.w3.org/2000/svg\" width=\"440\" height=\"340\">\n",
       "<path stroke-width=\"1\" stroke=\"black\" d=\"M 264 200 353 168\"/>\n",
       "<path stroke-width=\"1\" stroke=\"black\" d=\"M 20 116 153 125\"/>\n",
       "<path stroke-width=\"1\" stroke=\"black\" d=\"M 28 91 131 68\"/>\n",
       "<path stroke-width=\"1\" stroke=\"black\" d=\"M 28 91 20 116\"/>\n",
       "<path stroke-width=\"1\" stroke=\"black\" d=\"M 28 91 153 125\"/>\n",
       "<path stroke-width=\"1\" stroke=\"black\" d=\"M 162 20 171 45\"/>\n",
       "<path stroke-width=\"1\" stroke=\"black\" d=\"M 162 20 246 82\"/>\n",
       "<path stroke-width=\"1\" stroke=\"black\" d=\"M 122 103 251 143\"/>\n",
       "<path stroke-width=\"1\" stroke=\"black\" d=\"M 122 103 131 68\"/>\n",
       "<path stroke-width=\"1\" stroke=\"black\" d=\"M 122 103 20 116\"/>\n",
       "<path stroke-width=\"1\" stroke=\"black\" d=\"M 122 103 246 82\"/>\n",
       "<path stroke-width=\"1\" stroke=\"black\" d=\"M 197 120 251 143\"/>\n",
       "<path stroke-width=\"1\" stroke=\"black\" d=\"M 197 120 153 125\"/>\n",
       "<path stroke-width=\"1\" stroke=\"black\" d=\"M 197 120 246 82\"/>\n",
       "<path stroke-width=\"1\" stroke=\"black\" d=\"M 171 45 131 68\"/>\n",
       "<path stroke-width=\"1\" stroke=\"black\" d=\"M 171 45 162 20\"/>\n",
       "<path stroke-width=\"1\" stroke=\"black\" d=\"M 20 116 122 103\"/>\n",
       "<path stroke-width=\"1\" stroke=\"black\" d=\"M 20 116 28 91\"/>\n",
       "<path stroke-width=\"1\" stroke=\"black\" d=\"M 131 68 246 82\"/>\n",
       "<path stroke-width=\"1\" stroke=\"black\" d=\"M 131 68 260 73\"/>\n",
       "<path stroke-width=\"1\" stroke=\"black\" d=\"M 388 216 264 200\"/>\n",
       "<path stroke-width=\"1\" stroke=\"black\" d=\"M 388 216 353 168\"/>\n",
       "<path stroke-width=\"1\" stroke=\"black\" d=\"M 313 34 260 73\"/>\n",
       "<path stroke-width=\"1\" stroke=\"black\" d=\"M 313 34 246 82\"/>\n",
       "<path stroke-width=\"1\" stroke=\"black\" d=\"M 331 143 264 200\"/>\n",
       "<path stroke-width=\"1\" stroke=\"black\" d=\"M 331 143 353 168\"/>\n",
       "<path stroke-width=\"1\" stroke=\"black\" d=\"M 331 143 246 82\"/>\n",
       "<path stroke-width=\"1\" stroke=\"black\" d=\"M 171 45 260 73\"/>\n",
       "<path stroke-width=\"1\" stroke=\"black\" d=\"M 366 61 260 73\"/>\n",
       "<path stroke-width=\"1\" stroke=\"black\" d=\"M 420 202 264 200\"/>\n",
       "<path stroke-width=\"1\" stroke=\"black\" d=\"M 420 202 353 168\"/>\n",
       "<path stroke-width=\"1\" stroke=\"black\" d=\"M 228 32 260 73\"/>\n",
       "<path stroke-width=\"1\" stroke=\"black\" d=\"M 228 32 246 82\"/>\n",
       "<path stroke-width=\"1\" stroke=\"black\" d=\"M 131 68 28 91\"/>\n",
       "<path stroke-width=\"1\" stroke=\"black\" d=\"M 131 68 122 103\"/>\n",
       "<path stroke-width=\"1\" stroke=\"black\" d=\"M 131 68 171 45\"/>\n",
       "<path stroke-width=\"1\" stroke=\"black\" d=\"M 366 61 246 82\"/>\n",
       "<path stroke-width=\"1\" stroke=\"black\" d=\"M 220 320 264 277\"/>\n",
       "<path stroke-width=\"1\" stroke=\"black\" d=\"M 171 45 246 82\"/>\n",
       "<path stroke-width=\"1\" stroke=\"black\" d=\"M 344 107 282 125\"/>\n",
       "<path stroke-width=\"1\" stroke=\"black\" d=\"M 246 82 282 125\"/>\n",
       "<path stroke-width=\"1\" stroke=\"black\" d=\"M 246 82 197 100\"/>\n",
       "<path stroke-width=\"1\" stroke=\"black\" d=\"M 246 82 282 153\"/>\n",
       "<path stroke-width=\"1\" stroke=\"black\" d=\"M 246 82 348 43\"/>\n",
       "<path stroke-width=\"1\" stroke=\"black\" d=\"M 246 82 273 27\"/>\n",
       "<path stroke-width=\"1\" stroke=\"black\" d=\"M 246 82 313 34\"/>\n",
       "<path stroke-width=\"1\" stroke=\"black\" d=\"M 246 82 331 143\"/>\n",
       "<path stroke-width=\"1\" stroke=\"black\" d=\"M 246 82 366 61\"/>\n",
       "<path stroke-width=\"1\" stroke=\"black\" d=\"M 246 82 228 32\"/>\n",
       "<path stroke-width=\"1\" stroke=\"black\" d=\"M 246 82 131 68\"/>\n",
       "<path stroke-width=\"1\" stroke=\"black\" d=\"M 246 82 162 20\"/>\n",
       "<path stroke-width=\"1\" stroke=\"black\" d=\"M 246 82 122 103\"/>\n",
       "<path stroke-width=\"1\" stroke=\"black\" d=\"M 246 82 197 120\"/>\n",
       "<path stroke-width=\"1\" stroke=\"black\" d=\"M 246 82 171 45\"/>\n",
       "<path stroke-width=\"1\" stroke=\"black\" d=\"M 246 82 344 107\"/>\n",
       "<path stroke-width=\"1\" stroke=\"black\" d=\"M 260 73 246 82\"/>\n",
       "<path stroke-width=\"1\" stroke=\"black\" d=\"M 260 73 153 125\"/>\n",
       "<path stroke-width=\"1\" stroke=\"black\" d=\"M 260 73 344 107\"/>\n",
       "<path stroke-width=\"1\" stroke=\"black\" d=\"M 260 73 171 45\"/>\n",
       "<path stroke-width=\"1\" stroke=\"black\" d=\"M 344 107 260 73\"/>\n",
       "<path stroke-width=\"1\" stroke=\"black\" d=\"M 344 107 246 82\"/>\n",
       "<path stroke-width=\"1\" stroke=\"black\" d=\"M 153 125 264 200\"/>\n",
       "<path stroke-width=\"1\" stroke=\"black\" d=\"M 153 125 20 116\"/>\n",
       "<path stroke-width=\"1\" stroke=\"black\" d=\"M 153 125 28 91\"/>\n",
       "<path stroke-width=\"1\" stroke=\"black\" d=\"M 153 125 197 120\"/>\n",
       "<path stroke-width=\"1\" stroke=\"black\" d=\"M 153 125 260 73\"/>\n",
       "<path stroke-width=\"1\" stroke=\"black\" d=\"M 344 107 353 168\"/>\n",
       "<path stroke-width=\"1\" stroke=\"black\" d=\"M 153 125 246 82\"/>\n",
       "<path stroke-width=\"1\" stroke=\"black\" d=\"M 260 73 282 125\"/>\n",
       "<path stroke-width=\"1\" stroke=\"black\" d=\"M 260 73 348 43\"/>\n",
       "<path stroke-width=\"1\" stroke=\"black\" d=\"M 260 73 273 27\"/>\n",
       "<path stroke-width=\"1\" stroke=\"black\" d=\"M 260 73 313 34\"/>\n",
       "<path stroke-width=\"1\" stroke=\"black\" d=\"M 260 73 366 61\"/>\n",
       "<path stroke-width=\"1\" stroke=\"black\" d=\"M 260 73 228 32\"/>\n",
       "<path stroke-width=\"1\" stroke=\"black\" d=\"M 260 73 131 68\"/>\n",
       "<path stroke-width=\"1\" stroke=\"black\" d=\"M 260 73 251 143\"/>\n",
       "<path stroke-width=\"1\" stroke=\"black\" d=\"M 220 320 211 275\"/>\n",
       "<path stroke-width=\"1\" stroke=\"black\" d=\"M 273 27 246 82\"/>\n",
       "<path stroke-width=\"1\" stroke=\"black\" d=\"M 273 27 260 73\"/>\n",
       "<path stroke-width=\"1\" stroke=\"black\" d=\"M 353 168 388 216\"/>\n",
       "<path stroke-width=\"1\" stroke=\"black\" d=\"M 353 168 331 143\"/>\n",
       "<path stroke-width=\"1\" stroke=\"black\" d=\"M 353 168 420 202\"/>\n",
       "<path stroke-width=\"1\" stroke=\"black\" d=\"M 353 168 344 107\"/>\n",
       "<path stroke-width=\"1\" stroke=\"black\" d=\"M 251 143 264 200\"/>\n",
       "<path stroke-width=\"1\" stroke=\"black\" d=\"M 251 143 353 168\"/>\n",
       "<path stroke-width=\"1\" stroke=\"black\" d=\"M 251 143 304 191\"/>\n",
       "<path stroke-width=\"1\" stroke=\"black\" d=\"M 251 143 340 186\"/>\n",
       "<path stroke-width=\"1\" stroke=\"black\" d=\"M 251 143 282 125\"/>\n",
       "<path stroke-width=\"1\" stroke=\"black\" d=\"M 251 143 197 100\"/>\n",
       "<path stroke-width=\"1\" stroke=\"black\" d=\"M 251 143 282 153\"/>\n",
       "<path stroke-width=\"1\" stroke=\"black\" d=\"M 251 143 122 103\"/>\n",
       "<path stroke-width=\"1\" stroke=\"black\" d=\"M 251 143 197 120\"/>\n",
       "<path stroke-width=\"1\" stroke=\"black\" d=\"M 251 143 260 73\"/>\n",
       "<path stroke-width=\"1\" stroke=\"black\" d=\"M 304 191 264 200\"/>\n",
       "<path stroke-width=\"1\" stroke=\"black\" d=\"M 353 168 282 153\"/>\n",
       "<path stroke-width=\"1\" stroke=\"black\" d=\"M 353 168 340 186\"/>\n",
       "<path stroke-width=\"1\" stroke=\"black\" d=\"M 353 168 304 191\"/>\n",
       "<path stroke-width=\"1\" stroke=\"black\" d=\"M 353 168 251 143\"/>\n",
       "<path stroke-width=\"1\" stroke=\"black\" d=\"M 264 200 251 143\"/>\n",
       "<path stroke-width=\"1\" stroke=\"black\" d=\"M 264 200 304 191\"/>\n",
       "<path stroke-width=\"1\" stroke=\"black\" d=\"M 264 200 255 255\"/>\n",
       "<path stroke-width=\"1\" stroke=\"black\" d=\"M 264 200 211 275\"/>\n",
       "<path stroke-width=\"1\" stroke=\"black\" d=\"M 264 200 264 277\"/>\n",
       "<path stroke-width=\"1\" stroke=\"black\" d=\"M 264 200 340 186\"/>\n",
       "<path stroke-width=\"1\" stroke=\"black\" d=\"M 264 200 282 125\"/>\n",
       "<path stroke-width=\"1\" stroke=\"black\" d=\"M 304 191 353 168\"/>\n",
       "<path stroke-width=\"1\" stroke=\"black\" d=\"M 264 200 188 252\"/>\n",
       "<path stroke-width=\"1\" stroke=\"black\" d=\"M 264 200 335 236\"/>\n",
       "<path stroke-width=\"1\" stroke=\"black\" d=\"M 264 200 282 153\"/>\n",
       "<path stroke-width=\"1\" stroke=\"black\" d=\"M 264 200 388 216\"/>\n",
       "<path stroke-width=\"1\" stroke=\"black\" d=\"M 264 200 331 143\"/>\n",
       "<path stroke-width=\"1\" stroke=\"black\" d=\"M 264 200 420 202\"/>\n",
       "<path stroke-width=\"1\" stroke=\"black\" d=\"M 264 200 153 125\"/>\n",
       "<path stroke-width=\"1\" stroke=\"black\" d=\"M 353 168 264 200\"/>\n",
       "<path stroke-width=\"1\" stroke=\"black\" d=\"M 264 200 122 212\"/>\n",
       "<path stroke-width=\"1\" stroke=\"black\" d=\"M 304 191 251 143\"/>\n",
       "<path stroke-width=\"1\" stroke=\"black\" d=\"M 304 191 340 186\"/>\n",
       "<path stroke-width=\"1\" stroke=\"black\" d=\"M 304 191 335 236\"/>\n",
       "<path stroke-width=\"1\" stroke=\"black\" d=\"M 282 125 246 82\"/>\n",
       "<path stroke-width=\"1\" stroke=\"black\" d=\"M 197 100 251 143\"/>\n",
       "<path stroke-width=\"1\" stroke=\"black\" d=\"M 197 100 246 82\"/>\n",
       "<path stroke-width=\"1\" stroke=\"black\" d=\"M 188 252 264 200\"/>\n",
       "<path stroke-width=\"1\" stroke=\"black\" d=\"M 188 252 255 255\"/>\n",
       "<path stroke-width=\"1\" stroke=\"black\" d=\"M 188 252 211 275\"/>\n",
       "<path stroke-width=\"1\" stroke=\"black\" d=\"M 122 212 264 200\"/>\n",
       "<path stroke-width=\"1\" stroke=\"black\" d=\"M 282 125 260 73\"/>\n",
       "<path stroke-width=\"1\" stroke=\"black\" d=\"M 335 236 264 200\"/>\n",
       "<path stroke-width=\"1\" stroke=\"black\" d=\"M 282 153 264 200\"/>\n",
       "<path stroke-width=\"1\" stroke=\"black\" d=\"M 282 153 353 168\"/>\n",
       "<path stroke-width=\"1\" stroke=\"black\" d=\"M 282 153 251 143\"/>\n",
       "<path stroke-width=\"1\" stroke=\"black\" d=\"M 282 153 304 191\"/>\n",
       "<path stroke-width=\"1\" stroke=\"black\" d=\"M 282 153 246 82\"/>\n",
       "<path stroke-width=\"1\" stroke=\"black\" d=\"M 348 43 260 73\"/>\n",
       "<path stroke-width=\"1\" stroke=\"black\" d=\"M 348 43 246 82\"/>\n",
       "<path stroke-width=\"1\" stroke=\"black\" d=\"M 335 236 304 191\"/>\n",
       "<path stroke-width=\"1\" stroke=\"black\" d=\"M 246 82 153 125\"/>\n",
       "<path stroke-width=\"1\" stroke=\"black\" d=\"M 282 125 344 107\"/>\n",
       "<path stroke-width=\"1\" stroke=\"black\" d=\"M 282 125 264 200\"/>\n",
       "<path stroke-width=\"1\" stroke=\"black\" d=\"M 304 191 282 153\"/>\n",
       "<path stroke-width=\"1\" stroke=\"black\" d=\"M 255 255 264 200\"/>\n",
       "<path stroke-width=\"1\" stroke=\"black\" d=\"M 255 255 264 277\"/>\n",
       "<path stroke-width=\"1\" stroke=\"black\" d=\"M 255 255 188 252\"/>\n",
       "<path stroke-width=\"1\" stroke=\"black\" d=\"M 211 275 264 200\"/>\n",
       "<path stroke-width=\"1\" stroke=\"black\" d=\"M 211 275 264 277\"/>\n",
       "<path stroke-width=\"1\" stroke=\"black\" d=\"M 211 275 188 252\"/>\n",
       "<path stroke-width=\"1\" stroke=\"black\" d=\"M 282 125 251 143\"/>\n",
       "<path stroke-width=\"1\" stroke=\"black\" d=\"M 211 275 220 320\"/>\n",
       "<path stroke-width=\"1\" stroke=\"black\" d=\"M 264 277 255 255\"/>\n",
       "<path stroke-width=\"1\" stroke=\"black\" d=\"M 264 277 211 275\"/>\n",
       "<path stroke-width=\"1\" stroke=\"black\" d=\"M 264 277 220 320\"/>\n",
       "<path stroke-width=\"1\" stroke=\"black\" d=\"M 340 186 264 200\"/>\n",
       "<path stroke-width=\"1\" stroke=\"black\" d=\"M 340 186 353 168\"/>\n",
       "<path stroke-width=\"1\" stroke=\"black\" d=\"M 340 186 251 143\"/>\n",
       "<path stroke-width=\"1\" stroke=\"black\" d=\"M 340 186 304 191\"/>\n",
       "<path stroke-width=\"1\" stroke=\"black\" d=\"M 264 277 264 200\"/>\n",
       "<path stroke-width=\"1\" stroke=\"black\" d=\"M 246 82 260 73\"/>\n",
       "<circle cx=\"264\" cy=\"200\" r=\"7.0\" style=\"fill:red;stroke:black;stroke-width:1.0\"/>\n",
       "<circle cx=\"353\" cy=\"168\" r=\"7.0\" style=\"fill:red;stroke:black;stroke-width:1.0\"/>\n",
       "<circle cx=\"251\" cy=\"143\" r=\"7.0\" style=\"fill:red;stroke:black;stroke-width:1.0\"/>\n",
       "<circle cx=\"304\" cy=\"191\" r=\"7.0\" style=\"fill:red;stroke:black;stroke-width:1.0\"/>\n",
       "<circle cx=\"255\" cy=\"255\" r=\"7.0\" style=\"fill:red;stroke:black;stroke-width:1.0\"/>\n",
       "<circle cx=\"211\" cy=\"275\" r=\"7.0\" style=\"fill:red;stroke:black;stroke-width:1.0\"/>\n",
       "<circle cx=\"264\" cy=\"277\" r=\"7.0\" style=\"fill:red;stroke:black;stroke-width:1.0\"/>\n",
       "<circle cx=\"340\" cy=\"186\" r=\"7.0\" style=\"fill:red;stroke:black;stroke-width:1.0\"/>\n",
       "<circle cx=\"282\" cy=\"125\" r=\"7.0\" style=\"fill:red;stroke:black;stroke-width:1.0\"/>\n",
       "<circle cx=\"197\" cy=\"100\" r=\"7.0\" style=\"fill:blue;stroke:black;stroke-width:1.0\"/>\n",
       "<circle cx=\"188\" cy=\"252\" r=\"7.0\" style=\"fill:red;stroke:black;stroke-width:1.0\"/>\n",
       "<circle cx=\"122\" cy=\"212\" r=\"7.0\" style=\"fill:red;stroke:black;stroke-width:1.0\"/>\n",
       "<circle cx=\"335\" cy=\"236\" r=\"7.0\" style=\"fill:red;stroke:black;stroke-width:1.0\"/>\n",
       "<circle cx=\"282\" cy=\"153\" r=\"7.0\" style=\"fill:red;stroke:black;stroke-width:1.0\"/>\n",
       "<circle cx=\"348\" cy=\"43\" r=\"7.0\" style=\"fill:blue;stroke:black;stroke-width:1.0\"/>\n",
       "<circle cx=\"273\" cy=\"27\" r=\"7.0\" style=\"fill:blue;stroke:black;stroke-width:1.0\"/>\n",
       "<circle cx=\"220\" cy=\"320\" r=\"7.0\" style=\"fill:red;stroke:black;stroke-width:1.0\"/>\n",
       "<circle cx=\"388\" cy=\"216\" r=\"7.0\" style=\"fill:red;stroke:black;stroke-width:1.0\"/>\n",
       "<circle cx=\"313\" cy=\"34\" r=\"7.0\" style=\"fill:blue;stroke:black;stroke-width:1.0\"/>\n",
       "<circle cx=\"331\" cy=\"143\" r=\"7.0\" style=\"fill:red;stroke:black;stroke-width:1.0\"/>\n",
       "<circle cx=\"366\" cy=\"61\" r=\"7.0\" style=\"fill:blue;stroke:black;stroke-width:1.0\"/>\n",
       "<circle cx=\"420\" cy=\"202\" r=\"7.0\" style=\"fill:red;stroke:black;stroke-width:1.0\"/>\n",
       "<circle cx=\"228\" cy=\"32\" r=\"7.0\" style=\"fill:blue;stroke:black;stroke-width:1.0\"/>\n",
       "<circle cx=\"131\" cy=\"68\" r=\"7.0\" style=\"fill:blue;stroke:black;stroke-width:1.0\"/>\n",
       "<circle cx=\"20\" cy=\"116\" r=\"7.0\" style=\"fill:blue;stroke:black;stroke-width:1.0\"/>\n",
       "<circle cx=\"28\" cy=\"91\" r=\"7.0\" style=\"fill:blue;stroke:black;stroke-width:1.0\"/>\n",
       "<circle cx=\"162\" cy=\"20\" r=\"7.0\" style=\"fill:blue;stroke:black;stroke-width:1.0\"/>\n",
       "<circle cx=\"122\" cy=\"103\" r=\"7.0\" style=\"fill:blue;stroke:black;stroke-width:1.0\"/>\n",
       "<circle cx=\"197\" cy=\"120\" r=\"7.0\" style=\"fill:blue;stroke:black;stroke-width:1.0\"/>\n",
       "<circle cx=\"171\" cy=\"45\" r=\"7.0\" style=\"fill:blue;stroke:black;stroke-width:1.0\"/>\n",
       "<circle cx=\"344\" cy=\"107\" r=\"7.0\" style=\"fill:blue;stroke:black;stroke-width:1.0\"/>\n",
       "<circle cx=\"153\" cy=\"125\" r=\"7.0\" style=\"fill:blue;stroke:black;stroke-width:1.0\"/>\n",
       "<circle cx=\"260\" cy=\"73\" r=\"7.0\" style=\"fill:blue;stroke:black;stroke-width:1.0\"/>\n",
       "<circle cx=\"246\" cy=\"82\" r=\"7.0\" style=\"fill:blue;stroke:black;stroke-width:1.0\"/>\n",
       "</svg>"
      ],
      "text/plain": [
       "<IPython.core.display.SVG object>"
      ]
     },
     "execution_count": 8,
     "metadata": {},
     "output_type": "execute_result"
    }
   ],
   "source": [
    "image = visualize_graph(adjacency, position, labels=labels_true)\n",
    "SVG(image)"
   ]
  },
  {
   "cell_type": "markdown",
   "metadata": {},
   "source": [
    "## To do\n",
    "\n",
    "* Display the spectrum of the transition matrix (e.g., first 20 eigenvalues). \n",
    "* What does the spectrum suggest?\n",
    "* Display the graph with some eigenvectors.\n",
    "* Display the embedding of the graph in dimension 2.\n",
    "* Compare the clusters obtained with the sign of the first component of the embedding to the ground-truth clusters."
   ]
  },
  {
   "cell_type": "code",
   "execution_count": 9,
   "metadata": {},
   "outputs": [],
   "source": [
    "spectral = Spectral(3, normalized=False)"
   ]
  },
  {
   "cell_type": "code",
   "execution_count": 10,
   "metadata": {},
   "outputs": [
    {
     "data": {
      "text/plain": [
       "Spectral(n_components=3, decomposition='rw', regularization=-1, normalized=False)"
      ]
     },
     "execution_count": 10,
     "metadata": {},
     "output_type": "execute_result"
    }
   ],
   "source": [
    "spectral.fit(adjacency)"
   ]
  },
  {
   "cell_type": "code",
   "execution_count": 11,
   "metadata": {},
   "outputs": [],
   "source": [
    "# eigenvalues (adding the first)\n",
    "eigenvalues = [1] + list(spectral.eigenvalues_)"
   ]
  },
  {
   "cell_type": "code",
   "execution_count": 12,
   "metadata": {},
   "outputs": [
    {
     "name": "stdout",
     "output_type": "stream",
     "text": [
      "[[ 0.07409995  0.03614675 -0.01532827]\n",
      " [ 0.03780463  0.1168223  -0.00387282]\n",
      " [-0.00283692  0.06687637 -0.01485807]\n",
      " [ 0.04700064  0.1282328  -0.02553287]\n",
      " [ 0.15425165 -0.10724463  0.01089171]\n",
      " [ 0.17319368 -0.15828262  0.02445618]\n",
      " [ 0.17319368 -0.15828262  0.02445618]\n",
      " [ 0.04496465  0.12205545 -0.02431586]\n",
      " [-0.02362613  0.02171959  0.05615719]\n",
      " [-0.03933922  0.03119086  0.0311538 ]\n",
      " [ 0.15425165 -0.10724463  0.01089171]\n",
      " [ 0.0853954   0.05070018 -0.02501811]\n",
      " [ 0.06978029  0.11528109 -0.03334586]\n",
      " [ 0.02088991  0.09136026 -0.00214104]\n",
      " [-0.07956018 -0.03851626  0.10483882]\n",
      " [-0.07956018 -0.03851626  0.10483882]\n",
      " [ 0.19959451 -0.22201051  0.03991628]\n",
      " [ 0.06448139  0.10727879 -0.01566958]\n",
      " [-0.07956018 -0.03851626  0.10483882]\n",
      " [ 0.01785124  0.0610457   0.01840637]\n",
      " [-0.07956018 -0.03851626  0.10483882]\n",
      " [ 0.06448139  0.10727879 -0.01566958]\n",
      " [-0.07956018 -0.03851626  0.10483882]\n",
      " [-0.08766409 -0.07033635 -0.06678473]\n",
      " [-0.07819698 -0.08206431 -0.28963417]\n",
      " [-0.08380548 -0.09241577 -0.26741085]\n",
      " [-0.09014526 -0.06168184  0.09567898]\n",
      " [-0.06745565 -0.03784466 -0.12985586]\n",
      " [-0.04631691 -0.00036841 -0.05273131]\n",
      " [-0.09100853 -0.065551    0.06420939]\n",
      " [-0.03569514  0.02932231  0.07375347]\n",
      " [-0.05229993 -0.04526308 -0.13509836]\n",
      " [-0.07263859 -0.03251915  0.07543361]\n",
      " [-0.06543455 -0.02240127  0.05303311]]\n"
     ]
    }
   ],
   "source": [
    "# eigenvectors\n",
    "eigenvectors = spectral.eigenvectors_\n",
    "print(eigenvectors)"
   ]
  },
  {
   "cell_type": "code",
   "execution_count": 13,
   "metadata": {},
   "outputs": [
    {
     "data": {
      "image/svg+xml": [
       "<svg xmlns=\"http://www.w3.org/2000/svg\" width=\"440\" height=\"340\">\n",
       "<path stroke-width=\"1\" stroke=\"black\" d=\"M 264 200 353 168\"/>\n",
       "<path stroke-width=\"1\" stroke=\"black\" d=\"M 20 116 153 125\"/>\n",
       "<path stroke-width=\"1\" stroke=\"black\" d=\"M 28 91 131 68\"/>\n",
       "<path stroke-width=\"1\" stroke=\"black\" d=\"M 28 91 20 116\"/>\n",
       "<path stroke-width=\"1\" stroke=\"black\" d=\"M 28 91 153 125\"/>\n",
       "<path stroke-width=\"1\" stroke=\"black\" d=\"M 162 20 171 45\"/>\n",
       "<path stroke-width=\"1\" stroke=\"black\" d=\"M 162 20 246 82\"/>\n",
       "<path stroke-width=\"1\" stroke=\"black\" d=\"M 122 103 251 143\"/>\n",
       "<path stroke-width=\"1\" stroke=\"black\" d=\"M 122 103 131 68\"/>\n",
       "<path stroke-width=\"1\" stroke=\"black\" d=\"M 122 103 20 116\"/>\n",
       "<path stroke-width=\"1\" stroke=\"black\" d=\"M 122 103 246 82\"/>\n",
       "<path stroke-width=\"1\" stroke=\"black\" d=\"M 197 120 251 143\"/>\n",
       "<path stroke-width=\"1\" stroke=\"black\" d=\"M 197 120 153 125\"/>\n",
       "<path stroke-width=\"1\" stroke=\"black\" d=\"M 197 120 246 82\"/>\n",
       "<path stroke-width=\"1\" stroke=\"black\" d=\"M 171 45 131 68\"/>\n",
       "<path stroke-width=\"1\" stroke=\"black\" d=\"M 171 45 162 20\"/>\n",
       "<path stroke-width=\"1\" stroke=\"black\" d=\"M 20 116 122 103\"/>\n",
       "<path stroke-width=\"1\" stroke=\"black\" d=\"M 20 116 28 91\"/>\n",
       "<path stroke-width=\"1\" stroke=\"black\" d=\"M 131 68 246 82\"/>\n",
       "<path stroke-width=\"1\" stroke=\"black\" d=\"M 131 68 260 73\"/>\n",
       "<path stroke-width=\"1\" stroke=\"black\" d=\"M 388 216 264 200\"/>\n",
       "<path stroke-width=\"1\" stroke=\"black\" d=\"M 388 216 353 168\"/>\n",
       "<path stroke-width=\"1\" stroke=\"black\" d=\"M 313 34 260 73\"/>\n",
       "<path stroke-width=\"1\" stroke=\"black\" d=\"M 313 34 246 82\"/>\n",
       "<path stroke-width=\"1\" stroke=\"black\" d=\"M 331 143 264 200\"/>\n",
       "<path stroke-width=\"1\" stroke=\"black\" d=\"M 331 143 353 168\"/>\n",
       "<path stroke-width=\"1\" stroke=\"black\" d=\"M 331 143 246 82\"/>\n",
       "<path stroke-width=\"1\" stroke=\"black\" d=\"M 171 45 260 73\"/>\n",
       "<path stroke-width=\"1\" stroke=\"black\" d=\"M 366 61 260 73\"/>\n",
       "<path stroke-width=\"1\" stroke=\"black\" d=\"M 420 202 264 200\"/>\n",
       "<path stroke-width=\"1\" stroke=\"black\" d=\"M 420 202 353 168\"/>\n",
       "<path stroke-width=\"1\" stroke=\"black\" d=\"M 228 32 260 73\"/>\n",
       "<path stroke-width=\"1\" stroke=\"black\" d=\"M 228 32 246 82\"/>\n",
       "<path stroke-width=\"1\" stroke=\"black\" d=\"M 131 68 28 91\"/>\n",
       "<path stroke-width=\"1\" stroke=\"black\" d=\"M 131 68 122 103\"/>\n",
       "<path stroke-width=\"1\" stroke=\"black\" d=\"M 131 68 171 45\"/>\n",
       "<path stroke-width=\"1\" stroke=\"black\" d=\"M 366 61 246 82\"/>\n",
       "<path stroke-width=\"1\" stroke=\"black\" d=\"M 220 320 264 277\"/>\n",
       "<path stroke-width=\"1\" stroke=\"black\" d=\"M 171 45 246 82\"/>\n",
       "<path stroke-width=\"1\" stroke=\"black\" d=\"M 344 107 282 125\"/>\n",
       "<path stroke-width=\"1\" stroke=\"black\" d=\"M 246 82 282 125\"/>\n",
       "<path stroke-width=\"1\" stroke=\"black\" d=\"M 246 82 197 100\"/>\n",
       "<path stroke-width=\"1\" stroke=\"black\" d=\"M 246 82 282 153\"/>\n",
       "<path stroke-width=\"1\" stroke=\"black\" d=\"M 246 82 348 43\"/>\n",
       "<path stroke-width=\"1\" stroke=\"black\" d=\"M 246 82 273 27\"/>\n",
       "<path stroke-width=\"1\" stroke=\"black\" d=\"M 246 82 313 34\"/>\n",
       "<path stroke-width=\"1\" stroke=\"black\" d=\"M 246 82 331 143\"/>\n",
       "<path stroke-width=\"1\" stroke=\"black\" d=\"M 246 82 366 61\"/>\n",
       "<path stroke-width=\"1\" stroke=\"black\" d=\"M 246 82 228 32\"/>\n",
       "<path stroke-width=\"1\" stroke=\"black\" d=\"M 246 82 131 68\"/>\n",
       "<path stroke-width=\"1\" stroke=\"black\" d=\"M 246 82 162 20\"/>\n",
       "<path stroke-width=\"1\" stroke=\"black\" d=\"M 246 82 122 103\"/>\n",
       "<path stroke-width=\"1\" stroke=\"black\" d=\"M 246 82 197 120\"/>\n",
       "<path stroke-width=\"1\" stroke=\"black\" d=\"M 246 82 171 45\"/>\n",
       "<path stroke-width=\"1\" stroke=\"black\" d=\"M 246 82 344 107\"/>\n",
       "<path stroke-width=\"1\" stroke=\"black\" d=\"M 260 73 246 82\"/>\n",
       "<path stroke-width=\"1\" stroke=\"black\" d=\"M 260 73 153 125\"/>\n",
       "<path stroke-width=\"1\" stroke=\"black\" d=\"M 260 73 344 107\"/>\n",
       "<path stroke-width=\"1\" stroke=\"black\" d=\"M 260 73 171 45\"/>\n",
       "<path stroke-width=\"1\" stroke=\"black\" d=\"M 344 107 260 73\"/>\n",
       "<path stroke-width=\"1\" stroke=\"black\" d=\"M 344 107 246 82\"/>\n",
       "<path stroke-width=\"1\" stroke=\"black\" d=\"M 153 125 264 200\"/>\n",
       "<path stroke-width=\"1\" stroke=\"black\" d=\"M 153 125 20 116\"/>\n",
       "<path stroke-width=\"1\" stroke=\"black\" d=\"M 153 125 28 91\"/>\n",
       "<path stroke-width=\"1\" stroke=\"black\" d=\"M 153 125 197 120\"/>\n",
       "<path stroke-width=\"1\" stroke=\"black\" d=\"M 153 125 260 73\"/>\n",
       "<path stroke-width=\"1\" stroke=\"black\" d=\"M 344 107 353 168\"/>\n",
       "<path stroke-width=\"1\" stroke=\"black\" d=\"M 153 125 246 82\"/>\n",
       "<path stroke-width=\"1\" stroke=\"black\" d=\"M 260 73 282 125\"/>\n",
       "<path stroke-width=\"1\" stroke=\"black\" d=\"M 260 73 348 43\"/>\n",
       "<path stroke-width=\"1\" stroke=\"black\" d=\"M 260 73 273 27\"/>\n",
       "<path stroke-width=\"1\" stroke=\"black\" d=\"M 260 73 313 34\"/>\n",
       "<path stroke-width=\"1\" stroke=\"black\" d=\"M 260 73 366 61\"/>\n",
       "<path stroke-width=\"1\" stroke=\"black\" d=\"M 260 73 228 32\"/>\n",
       "<path stroke-width=\"1\" stroke=\"black\" d=\"M 260 73 131 68\"/>\n",
       "<path stroke-width=\"1\" stroke=\"black\" d=\"M 260 73 251 143\"/>\n",
       "<path stroke-width=\"1\" stroke=\"black\" d=\"M 220 320 211 275\"/>\n",
       "<path stroke-width=\"1\" stroke=\"black\" d=\"M 273 27 246 82\"/>\n",
       "<path stroke-width=\"1\" stroke=\"black\" d=\"M 273 27 260 73\"/>\n",
       "<path stroke-width=\"1\" stroke=\"black\" d=\"M 353 168 388 216\"/>\n",
       "<path stroke-width=\"1\" stroke=\"black\" d=\"M 353 168 331 143\"/>\n",
       "<path stroke-width=\"1\" stroke=\"black\" d=\"M 353 168 420 202\"/>\n",
       "<path stroke-width=\"1\" stroke=\"black\" d=\"M 353 168 344 107\"/>\n",
       "<path stroke-width=\"1\" stroke=\"black\" d=\"M 251 143 264 200\"/>\n",
       "<path stroke-width=\"1\" stroke=\"black\" d=\"M 251 143 353 168\"/>\n",
       "<path stroke-width=\"1\" stroke=\"black\" d=\"M 251 143 304 191\"/>\n",
       "<path stroke-width=\"1\" stroke=\"black\" d=\"M 251 143 340 186\"/>\n",
       "<path stroke-width=\"1\" stroke=\"black\" d=\"M 251 143 282 125\"/>\n",
       "<path stroke-width=\"1\" stroke=\"black\" d=\"M 251 143 197 100\"/>\n",
       "<path stroke-width=\"1\" stroke=\"black\" d=\"M 251 143 282 153\"/>\n",
       "<path stroke-width=\"1\" stroke=\"black\" d=\"M 251 143 122 103\"/>\n",
       "<path stroke-width=\"1\" stroke=\"black\" d=\"M 251 143 197 120\"/>\n",
       "<path stroke-width=\"1\" stroke=\"black\" d=\"M 251 143 260 73\"/>\n",
       "<path stroke-width=\"1\" stroke=\"black\" d=\"M 304 191 264 200\"/>\n",
       "<path stroke-width=\"1\" stroke=\"black\" d=\"M 353 168 282 153\"/>\n",
       "<path stroke-width=\"1\" stroke=\"black\" d=\"M 353 168 340 186\"/>\n",
       "<path stroke-width=\"1\" stroke=\"black\" d=\"M 353 168 304 191\"/>\n",
       "<path stroke-width=\"1\" stroke=\"black\" d=\"M 353 168 251 143\"/>\n",
       "<path stroke-width=\"1\" stroke=\"black\" d=\"M 264 200 251 143\"/>\n",
       "<path stroke-width=\"1\" stroke=\"black\" d=\"M 264 200 304 191\"/>\n",
       "<path stroke-width=\"1\" stroke=\"black\" d=\"M 264 200 255 255\"/>\n",
       "<path stroke-width=\"1\" stroke=\"black\" d=\"M 264 200 211 275\"/>\n",
       "<path stroke-width=\"1\" stroke=\"black\" d=\"M 264 200 264 277\"/>\n",
       "<path stroke-width=\"1\" stroke=\"black\" d=\"M 264 200 340 186\"/>\n",
       "<path stroke-width=\"1\" stroke=\"black\" d=\"M 264 200 282 125\"/>\n",
       "<path stroke-width=\"1\" stroke=\"black\" d=\"M 304 191 353 168\"/>\n",
       "<path stroke-width=\"1\" stroke=\"black\" d=\"M 264 200 188 252\"/>\n",
       "<path stroke-width=\"1\" stroke=\"black\" d=\"M 264 200 335 236\"/>\n",
       "<path stroke-width=\"1\" stroke=\"black\" d=\"M 264 200 282 153\"/>\n",
       "<path stroke-width=\"1\" stroke=\"black\" d=\"M 264 200 388 216\"/>\n",
       "<path stroke-width=\"1\" stroke=\"black\" d=\"M 264 200 331 143\"/>\n",
       "<path stroke-width=\"1\" stroke=\"black\" d=\"M 264 200 420 202\"/>\n",
       "<path stroke-width=\"1\" stroke=\"black\" d=\"M 264 200 153 125\"/>\n",
       "<path stroke-width=\"1\" stroke=\"black\" d=\"M 353 168 264 200\"/>\n",
       "<path stroke-width=\"1\" stroke=\"black\" d=\"M 264 200 122 212\"/>\n",
       "<path stroke-width=\"1\" stroke=\"black\" d=\"M 304 191 251 143\"/>\n",
       "<path stroke-width=\"1\" stroke=\"black\" d=\"M 304 191 340 186\"/>\n",
       "<path stroke-width=\"1\" stroke=\"black\" d=\"M 304 191 335 236\"/>\n",
       "<path stroke-width=\"1\" stroke=\"black\" d=\"M 282 125 246 82\"/>\n",
       "<path stroke-width=\"1\" stroke=\"black\" d=\"M 197 100 251 143\"/>\n",
       "<path stroke-width=\"1\" stroke=\"black\" d=\"M 197 100 246 82\"/>\n",
       "<path stroke-width=\"1\" stroke=\"black\" d=\"M 188 252 264 200\"/>\n",
       "<path stroke-width=\"1\" stroke=\"black\" d=\"M 188 252 255 255\"/>\n",
       "<path stroke-width=\"1\" stroke=\"black\" d=\"M 188 252 211 275\"/>\n",
       "<path stroke-width=\"1\" stroke=\"black\" d=\"M 122 212 264 200\"/>\n",
       "<path stroke-width=\"1\" stroke=\"black\" d=\"M 282 125 260 73\"/>\n",
       "<path stroke-width=\"1\" stroke=\"black\" d=\"M 335 236 264 200\"/>\n",
       "<path stroke-width=\"1\" stroke=\"black\" d=\"M 282 153 264 200\"/>\n",
       "<path stroke-width=\"1\" stroke=\"black\" d=\"M 282 153 353 168\"/>\n",
       "<path stroke-width=\"1\" stroke=\"black\" d=\"M 282 153 251 143\"/>\n",
       "<path stroke-width=\"1\" stroke=\"black\" d=\"M 282 153 304 191\"/>\n",
       "<path stroke-width=\"1\" stroke=\"black\" d=\"M 282 153 246 82\"/>\n",
       "<path stroke-width=\"1\" stroke=\"black\" d=\"M 348 43 260 73\"/>\n",
       "<path stroke-width=\"1\" stroke=\"black\" d=\"M 348 43 246 82\"/>\n",
       "<path stroke-width=\"1\" stroke=\"black\" d=\"M 335 236 304 191\"/>\n",
       "<path stroke-width=\"1\" stroke=\"black\" d=\"M 246 82 153 125\"/>\n",
       "<path stroke-width=\"1\" stroke=\"black\" d=\"M 282 125 344 107\"/>\n",
       "<path stroke-width=\"1\" stroke=\"black\" d=\"M 282 125 264 200\"/>\n",
       "<path stroke-width=\"1\" stroke=\"black\" d=\"M 304 191 282 153\"/>\n",
       "<path stroke-width=\"1\" stroke=\"black\" d=\"M 255 255 264 200\"/>\n",
       "<path stroke-width=\"1\" stroke=\"black\" d=\"M 255 255 264 277\"/>\n",
       "<path stroke-width=\"1\" stroke=\"black\" d=\"M 255 255 188 252\"/>\n",
       "<path stroke-width=\"1\" stroke=\"black\" d=\"M 211 275 264 200\"/>\n",
       "<path stroke-width=\"1\" stroke=\"black\" d=\"M 211 275 264 277\"/>\n",
       "<path stroke-width=\"1\" stroke=\"black\" d=\"M 211 275 188 252\"/>\n",
       "<path stroke-width=\"1\" stroke=\"black\" d=\"M 282 125 251 143\"/>\n",
       "<path stroke-width=\"1\" stroke=\"black\" d=\"M 211 275 220 320\"/>\n",
       "<path stroke-width=\"1\" stroke=\"black\" d=\"M 264 277 255 255\"/>\n",
       "<path stroke-width=\"1\" stroke=\"black\" d=\"M 264 277 211 275\"/>\n",
       "<path stroke-width=\"1\" stroke=\"black\" d=\"M 264 277 220 320\"/>\n",
       "<path stroke-width=\"1\" stroke=\"black\" d=\"M 340 186 264 200\"/>\n",
       "<path stroke-width=\"1\" stroke=\"black\" d=\"M 340 186 353 168\"/>\n",
       "<path stroke-width=\"1\" stroke=\"black\" d=\"M 340 186 251 143\"/>\n",
       "<path stroke-width=\"1\" stroke=\"black\" d=\"M 340 186 304 191\"/>\n",
       "<path stroke-width=\"1\" stroke=\"black\" d=\"M 264 277 264 200\"/>\n",
       "<path stroke-width=\"1\" stroke=\"black\" d=\"M 246 82 260 73\"/>\n",
       "<circle cx=\"264\" cy=\"200\" r=\"7.0\" style=\"fill:rgb(236, 210, 196);stroke:black;stroke-width:1.0\"/>\n",
       "<circle cx=\"353\" cy=\"168\" r=\"7.0\" style=\"fill:rgb(202, 216, 238);stroke:black;stroke-width:1.0\"/>\n",
       "<circle cx=\"251\" cy=\"143\" r=\"7.0\" style=\"fill:rgb(159, 190, 254);stroke:black;stroke-width:1.0\"/>\n",
       "<circle cx=\"304\" cy=\"191\" r=\"7.0\" style=\"fill:rgb(214, 219, 228);stroke:black;stroke-width:1.0\"/>\n",
       "<circle cx=\"255\" cy=\"255\" r=\"7.0\" style=\"fill:rgb(230, 114, 89);stroke:black;stroke-width:1.0\"/>\n",
       "<circle cx=\"211\" cy=\"275\" r=\"7.0\" style=\"fill:rgb(211, 77, 64);stroke:black;stroke-width:1.0\"/>\n",
       "<circle cx=\"264\" cy=\"277\" r=\"7.0\" style=\"fill:rgb(211, 77, 64);stroke:black;stroke-width:1.0\"/>\n",
       "<circle cx=\"340\" cy=\"186\" r=\"7.0\" style=\"fill:rgb(210, 218, 231);stroke:black;stroke-width:1.0\"/>\n",
       "<circle cx=\"282\" cy=\"125\" r=\"7.0\" style=\"fill:rgb(130, 165, 251);stroke:black;stroke-width:1.0\"/>\n",
       "<circle cx=\"197\" cy=\"100\" r=\"7.0\" style=\"fill:rgb(112, 147, 243);stroke:black;stroke-width:1.0\"/>\n",
       "<circle cx=\"188\" cy=\"252\" r=\"7.0\" style=\"fill:rgb(230, 114, 89);stroke:black;stroke-width:1.0\"/>\n",
       "<circle cx=\"122\" cy=\"212\" r=\"7.0\" style=\"fill:rgb(242, 200, 179);stroke:black;stroke-width:1.0\"/>\n",
       "<circle cx=\"335\" cy=\"236\" r=\"7.0\" style=\"fill:rgb(231, 214, 204);stroke:black;stroke-width:1.0\"/>\n",
       "<circle cx=\"282\" cy=\"153\" r=\"7.0\" style=\"fill:rgb(187, 209, 247);stroke:black;stroke-width:1.0\"/>\n",
       "<circle cx=\"348\" cy=\"43\" r=\"7.0\" style=\"fill:rgb(66, 88, 202);stroke:black;stroke-width:1.0\"/>\n",
       "<circle cx=\"273\" cy=\"27\" r=\"7.0\" style=\"fill:rgb(66, 88, 202);stroke:black;stroke-width:1.0\"/>\n",
       "<circle cx=\"220\" cy=\"320\" r=\"7.0\" style=\"fill:rgb(179, 3, 38);stroke:black;stroke-width:1.0\"/>\n",
       "<circle cx=\"388\" cy=\"216\" r=\"7.0\" style=\"fill:rgb(227, 217, 211);stroke:black;stroke-width:1.0\"/>\n",
       "<circle cx=\"313\" cy=\"34\" r=\"7.0\" style=\"fill:rgb(66, 88, 202);stroke:black;stroke-width:1.0\"/>\n",
       "<circle cx=\"331\" cy=\"143\" r=\"7.0\" style=\"fill:rgb(183, 207, 249);stroke:black;stroke-width:1.0\"/>\n",
       "<circle cx=\"366\" cy=\"61\" r=\"7.0\" style=\"fill:rgb(66, 88, 202);stroke:black;stroke-width:1.0\"/>\n",
       "<circle cx=\"420\" cy=\"202\" r=\"7.0\" style=\"fill:rgb(227, 217, 211);stroke:black;stroke-width:1.0\"/>\n",
       "<circle cx=\"228\" cy=\"32\" r=\"7.0\" style=\"fill:rgb(66, 88, 202);stroke:black;stroke-width:1.0\"/>\n",
       "<circle cx=\"131\" cy=\"68\" r=\"7.0\" style=\"fill:rgb(60, 79, 195);stroke:black;stroke-width:1.0\"/>\n",
       "<circle cx=\"20\" cy=\"116\" r=\"7.0\" style=\"fill:rgb(70, 93, 207);stroke:black;stroke-width:1.0\"/>\n",
       "<circle cx=\"28\" cy=\"91\" r=\"7.0\" style=\"fill:rgb(64, 84, 199);stroke:black;stroke-width:1.0\"/>\n",
       "<circle cx=\"162\" cy=\"20\" r=\"7.0\" style=\"fill:rgb(58, 76, 192);stroke:black;stroke-width:1.0\"/>\n",
       "<circle cx=\"122\" cy=\"103\" r=\"7.0\" style=\"fill:rgb(82, 110, 220);stroke:black;stroke-width:1.0\"/>\n",
       "<circle cx=\"197\" cy=\"120\" r=\"7.0\" style=\"fill:rgb(105, 139, 239);stroke:black;stroke-width:1.0\"/>\n",
       "<circle cx=\"171\" cy=\"45\" r=\"7.0\" style=\"fill:rgb(58, 76, 192);stroke:black;stroke-width:1.0\"/>\n",
       "<circle cx=\"344\" cy=\"107\" r=\"7.0\" style=\"fill:rgb(116, 151, 245);stroke:black;stroke-width:1.0\"/>\n",
       "<circle cx=\"153\" cy=\"125\" r=\"7.0\" style=\"fill:rgb(99, 131, 234);stroke:black;stroke-width:1.0\"/>\n",
       "<circle cx=\"260\" cy=\"73\" r=\"7.0\" style=\"fill:rgb(76, 102, 214);stroke:black;stroke-width:1.0\"/>\n",
       "<circle cx=\"246\" cy=\"82\" r=\"7.0\" style=\"fill:rgb(82, 110, 220);stroke:black;stroke-width:1.0\"/>\n",
       "</svg>"
      ],
      "text/plain": [
       "<IPython.core.display.SVG object>"
      ]
     },
     "execution_count": 13,
     "metadata": {},
     "output_type": "execute_result"
    }
   ],
   "source": [
    "# display an eigenvector\n",
    "image = visualize_graph(adjacency, position, scores=eigenvectors[:, 0])\n",
    "SVG(image)"
   ]
  },
  {
   "cell_type": "markdown",
   "metadata": {},
   "source": [
    "## Openflights\n"
   ]
  },
  {
   "cell_type": "markdown",
   "metadata": {},
   "source": [
    "We now consider a larger graph. We use spectral embedding in dimension 20 to cluster the graph by k-means in the embedding space."
   ]
  },
  {
   "cell_type": "code",
   "execution_count": null,
   "metadata": {},
   "outputs": [
    {
     "ename": "",
     "evalue": "",
     "output_type": "error",
     "traceback": [
      "\u001b[1;31mFailed to start the Kernel. \n",
      "\u001b[1;31mUnable to start Kernel 'Python 3.9.undefined' due to a timeout waiting for the ports to get used. \n",
      "\u001b[1;31mView Jupyter <a href='command:jupyter.viewOutput'>log</a> for further details."
     ]
    }
   ],
   "source": [
    "dataset = openflights"
   ]
  },
  {
   "cell_type": "code",
   "execution_count": null,
   "metadata": {},
   "outputs": [
    {
     "ename": "",
     "evalue": "",
     "output_type": "error",
     "traceback": [
      "\u001b[1;31mFailed to start the Kernel. \n",
      "\u001b[1;31mUnable to start Kernel 'Python 3.9.undefined' due to a timeout waiting for the ports to get used. \n",
      "\u001b[1;31mView Jupyter <a href='command:jupyter.viewOutput'>log</a> for further details."
     ]
    }
   ],
   "source": [
    "adjacency = dataset.adjacency\n",
    "position = dataset.position\n",
    "names = dataset.names"
   ]
  },
  {
   "cell_type": "code",
   "execution_count": null,
   "metadata": {},
   "outputs": [
    {
     "ename": "",
     "evalue": "",
     "output_type": "error",
     "traceback": [
      "\u001b[1;31mFailed to start the Kernel. \n",
      "\u001b[1;31mUnable to start Kernel 'Python 3.9.undefined' due to a timeout waiting for the ports to get used. \n",
      "\u001b[1;31mView Jupyter <a href='command:jupyter.viewOutput'>log</a> for further details."
     ]
    }
   ],
   "source": [
    "image = visualize_graph(adjacency, position, width=800, height=400, node_size=3, display_edges=False)\n",
    "SVG(image)"
   ]
  },
  {
   "cell_type": "markdown",
   "metadata": {},
   "source": [
    "## To do\n",
    "\n",
    "* Display the same world map with 8 clusters found by k-means in the embedding space.\n",
    "* Do the same without normalization on the unit sphere (``normalized=False``).<br> Interpret the results. <br>**Hint:** Compute the distance of the centroid of each cluster to the origin in the embedding space."
   ]
  },
  {
   "cell_type": "code",
   "execution_count": null,
   "metadata": {},
   "outputs": [
    {
     "ename": "",
     "evalue": "",
     "output_type": "error",
     "traceback": [
      "\u001b[1;31mFailed to start the Kernel. \n",
      "\u001b[1;31mUnable to start Kernel 'Python 3.9.undefined' due to a timeout waiting for the ports to get used. \n",
      "\u001b[1;31mView Jupyter <a href='command:jupyter.viewOutput'>log</a> for further details."
     ]
    }
   ],
   "source": [
    "spectral = Spectral(20, normalized=True)"
   ]
  },
  {
   "cell_type": "code",
   "execution_count": null,
   "metadata": {},
   "outputs": [
    {
     "ename": "",
     "evalue": "",
     "output_type": "error",
     "traceback": [
      "\u001b[1;31mFailed to start the Kernel. \n",
      "\u001b[1;31mUnable to start Kernel 'Python 3.9.undefined' due to a timeout waiting for the ports to get used. \n",
      "\u001b[1;31mView Jupyter <a href='command:jupyter.viewOutput'>log</a> for further details."
     ]
    }
   ],
   "source": [
    "embedding = spectral.fit_transform(adjacency)"
   ]
  },
  {
   "cell_type": "markdown",
   "metadata": {},
   "source": [
    "## 2. Directed graphs and bipartite graphs"
   ]
  },
  {
   "cell_type": "markdown",
   "metadata": {},
   "source": [
    "We now work on directed graph and bipartite graphs. We measure proximity between nodes in the embedding space in terms of [cosine similarity](https://en.wikipedia.org/wiki/Cosine_similarity). Equivalently, we project the vectors on the unit sphere (``normalized=True``)."
   ]
  },
  {
   "cell_type": "markdown",
   "metadata": {},
   "source": [
    "## Wikipedia Vitals"
   ]
  },
  {
   "cell_type": "code",
   "execution_count": null,
   "metadata": {},
   "outputs": [
    {
     "ename": "",
     "evalue": "",
     "output_type": "error",
     "traceback": [
      "\u001b[1;31mFailed to start the Kernel. \n",
      "\u001b[1;31mUnable to start Kernel 'Python 3.9.undefined' due to a timeout waiting for the ports to get used. \n",
      "\u001b[1;31mView Jupyter <a href='command:jupyter.viewOutput'>log</a> for further details."
     ]
    }
   ],
   "source": [
    "dataset = wikivitals"
   ]
  },
  {
   "cell_type": "code",
   "execution_count": null,
   "metadata": {},
   "outputs": [
    {
     "ename": "",
     "evalue": "",
     "output_type": "error",
     "traceback": [
      "\u001b[1;31mFailed to start the Kernel. \n",
      "\u001b[1;31mUnable to start Kernel 'Python 3.9.undefined' due to a timeout waiting for the ports to get used. \n",
      "\u001b[1;31mView Jupyter <a href='command:jupyter.viewOutput'>log</a> for further details."
     ]
    }
   ],
   "source": [
    "adjacency = dataset.adjacency\n",
    "biadjacency = dataset.biadjacency\n",
    "names = dataset.names\n",
    "words = dataset.names_col\n",
    "labels = dataset.labels\n",
    "names_labels = dataset.names_labels\n",
    "labels_hierarchy = dataset.labels_hierarchy\n",
    "names_labels_hierarchy = dataset.names_labels_hierarchy"
   ]
  },
  {
   "cell_type": "markdown",
   "metadata": {},
   "source": [
    "## To do\n",
    "\n",
    "We first consider the spectral embedding of the graph of links in dimension 20.\n",
    "\n",
    "* List the 10 articles that are closest to **Vincent van Gogh** in terms of cosine similarity in the embedding space.\n",
    "* Display the 3D-plot of each label in the embedding space (top 3 dimensions). <br>You might represent each label by a point located at the center of the corresponding articles, with a size proportional to the number of articles. Use ``plotly`` for an interactive plot.\n",
    "* Display the dendrogram of the top-100 articles on **Arts** (in terms of Personalized PageRank) given by the [Ward method](https://en.wikipedia.org/wiki/Ward%27s_method) in the embedding space (hierarchical clustering)."
   ]
  },
  {
   "cell_type": "code",
   "execution_count": null,
   "metadata": {},
   "outputs": [
    {
     "ename": "",
     "evalue": "",
     "output_type": "error",
     "traceback": [
      "\u001b[1;31mFailed to start the Kernel. \n",
      "\u001b[1;31mUnable to start Kernel 'Python 3.9.undefined' due to a timeout waiting for the ports to get used. \n",
      "\u001b[1;31mView Jupyter <a href='command:jupyter.viewOutput'>log</a> for further details."
     ]
    }
   ],
   "source": [
    "import plotly.express as px"
   ]
  },
  {
   "cell_type": "code",
   "execution_count": null,
   "metadata": {},
   "outputs": [
    {
     "ename": "",
     "evalue": "",
     "output_type": "error",
     "traceback": [
      "\u001b[1;31mFailed to start the Kernel. \n",
      "\u001b[1;31mUnable to start Kernel 'Python 3.9.undefined' due to a timeout waiting for the ports to get used. \n",
      "\u001b[1;31mView Jupyter <a href='command:jupyter.viewOutput'>log</a> for further details."
     ]
    }
   ],
   "source": [
    "from scipy.cluster.hierarchy import linkage"
   ]
  },
  {
   "cell_type": "markdown",
   "metadata": {},
   "source": [
    "## To do\n",
    "\n",
    "* Repeat the same experiments on the bipartite graph between articles and words.\n",
    "* List the 10 articles and the 10 words that are closest to the word **painting** in the embedding space."
   ]
  },
  {
   "cell_type": "markdown",
   "metadata": {},
   "source": [
    "## To do\n",
    "\n",
    "* Prove that the average cosine similarity between nodes in some set $S$ is equal to the square distance of the barycenter of $S$ to the origin.\n",
    "\n",
    "For the following questions, first consider the graph of links, then the bipartite graph between articles and words:\n",
    "\n",
    "* Compute the average cosine similarity between articles of the **Mammals** category (see hierarchical labels).\n",
    "* Compare with the expected cosine similarity between two articles sampled uniformly at random.\n",
    "* Defining a category as **topical** if its average cosine similarity is close to 1, rank the 11 categories (Arts, History,...) by topicality. \n",
    "* List the 10 most topical and the 10 less topical hierarchical categories having at least 10 articles (like **Mammals**). "
   ]
  }
 ],
 "metadata": {
  "anaconda-cloud": {},
  "hide_input": false,
  "kernelspec": {
   "display_name": "Python 3 (ipykernel)",
   "language": "python",
   "name": "python3"
  },
  "language_info": {
   "codemirror_mode": {
    "name": "ipython",
    "version": 3
   },
   "file_extension": ".py",
   "mimetype": "text/x-python",
   "name": "python",
   "nbconvert_exporter": "python",
   "pygments_lexer": "ipython3",
   "version": "3.9.13"
  }
 },
 "nbformat": 4,
 "nbformat_minor": 1
}

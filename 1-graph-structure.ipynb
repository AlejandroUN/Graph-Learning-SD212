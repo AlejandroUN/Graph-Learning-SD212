{
 "cells": [
  {
   "cell_type": "markdown",
   "metadata": {},
   "source": [
    "# SD212: Graph Learning\n",
    "## Lab 1: Graph Structure\n",
    "\n",
    "In this lab, you will check some key properties of real graphs:\n",
    "* the [friendship paradox](https://en.wikipedia.org/wiki/Friendship_paradox),\n",
    "* the [power-law](https://en.wikipedia.org/wiki/Power_law#Power-law_probability_distributions) of degrees,\n",
    "* the [small-world](https://en.wikipedia.org/wiki/Small-world_network) property,\n",
    "* the tendency to [cluster](https://en.wikipedia.org/wiki/Clustering_coefficient)."
   ]
  },
  {
   "cell_type": "markdown",
   "metadata": {},
   "source": [
    "## Import"
   ]
  },
  {
   "cell_type": "code",
   "execution_count": 23,
   "metadata": {},
   "outputs": [],
   "source": [
    "import numpy as np\n",
    "from scipy import sparse\n",
    "import matplotlib.pyplot as plt"
   ]
  },
  {
   "cell_type": "code",
   "execution_count": 24,
   "metadata": {},
   "outputs": [],
   "source": [
    "from sknetwork.data import load_netset, erdos_renyi\n",
    "from sknetwork.path import get_distances, get_shortest_path\n",
    "from sknetwork.topology import get_clustering_coefficient\n",
    "from sknetwork.utils import get_degrees, get_neighbors"
   ]
  },
  {
   "cell_type": "markdown",
   "metadata": {},
   "source": [
    "## Data"
   ]
  },
  {
   "cell_type": "markdown",
   "metadata": {},
   "source": [
    "We will work on the following graphs (see the [NetSet](https://netset.telecom-paris.fr) collection for details):\n",
    "* Openflights (graph)\n",
    "* WikiVitals (directed graph)\n",
    "* Cinema (bipartite graph)"
   ]
  },
  {
   "cell_type": "code",
   "execution_count": 25,
   "metadata": {},
   "outputs": [
    {
     "name": "stdout",
     "output_type": "stream",
     "text": [
      "Parsing files...\n",
      "Done.\n"
     ]
    }
   ],
   "source": [
    "openflights = load_netset('openflights')"
   ]
  },
  {
   "cell_type": "code",
   "execution_count": 26,
   "metadata": {},
   "outputs": [
    {
     "name": "stdout",
     "output_type": "stream",
     "text": [
      "Parsing files...\n",
      "Done.\n"
     ]
    }
   ],
   "source": [
    "wikivitals = load_netset('wikivitals')"
   ]
  },
  {
   "cell_type": "code",
   "execution_count": 27,
   "metadata": {},
   "outputs": [
    {
     "name": "stdout",
     "output_type": "stream",
     "text": [
      "Parsing files...\n",
      "Done.\n"
     ]
    }
   ],
   "source": [
    "cinema = load_netset('cinema')"
   ]
  },
  {
   "cell_type": "code",
   "execution_count": 28,
   "metadata": {},
   "outputs": [],
   "source": [
    "dataset = openflights"
   ]
  },
  {
   "cell_type": "code",
   "execution_count": 29,
   "metadata": {},
   "outputs": [],
   "source": [
    "# adjacency matrix\n",
    "adjacency = dataset.adjacency"
   ]
  },
  {
   "cell_type": "code",
   "execution_count": 30,
   "metadata": {},
   "outputs": [
    {
     "data": {
      "text/plain": [
       "<3097x3097 sparse matrix of type '<class 'numpy.int64'>'\n",
       "\twith 36386 stored elements in Compressed Sparse Row format>"
      ]
     },
     "execution_count": 30,
     "metadata": {},
     "output_type": "execute_result"
    }
   ],
   "source": [
    "adjacency"
   ]
  },
  {
   "cell_type": "markdown",
   "metadata": {},
   "source": [
    "## 1. Friendship paradox"
   ]
  },
  {
   "cell_type": "markdown",
   "metadata": {},
   "source": [
    "We first focus on the friendship paradox. We consider the Openflights dataset."
   ]
  },
  {
   "cell_type": "markdown",
   "metadata": {},
   "source": [
    "## To do\n",
    "\n",
    "* Sample 100 random nodes. Compute their average degree.\n",
    "* Sample 100 random neighbors of random nodes. Compute their average degree.\n",
    "* Conclude."
   ]
  },
  {
   "cell_type": "code",
   "execution_count": 31,
   "metadata": {},
   "outputs": [],
   "source": [
    "degrees = get_degrees(adjacency)"
   ]
  },
  {
   "cell_type": "code",
   "execution_count": 32,
   "metadata": {},
   "outputs": [],
   "source": [
    "node = 0\n",
    "neighbors = get_neighbors(adjacency, node)"
   ]
  },
  {
   "cell_type": "code",
   "execution_count": 33,
   "metadata": {},
   "outputs": [
    {
     "name": "stdout",
     "output_type": "stream",
     "text": [
      "average degree 10.29\n",
      "average neihbors degree 68.68\n"
     ]
    }
   ],
   "source": [
    "node = 0\n",
    "\n",
    "rand_nodes = np.random.randint(adjacency.shape[0], size=100)\n",
    "average_degree = np.mean(degrees[rand_nodes])\n",
    "print('average degree ' + str(average_degree))\n",
    "\n",
    "avg_deg_neighbo = []\n",
    "\n",
    "for n in rand_nodes:\n",
    "\tneighbors = get_neighbors(adjacency, n)\n",
    "\tran_neighb = np.random.choice(neighbors)\n",
    "\tavg_deg_neighbo.append(degrees[ran_neighb])\n",
    "\n",
    "avg_deg_neighbo = np.mean(avg_deg_neighbo)\n",
    "print('average neihbors degree ' + str(avg_deg_neighbo))"
   ]
  },
  {
   "cell_type": "markdown",
   "metadata": {},
   "source": [
    "## 2. Power-law degrees"
   ]
  },
  {
   "cell_type": "markdown",
   "metadata": {},
   "source": [
    "We now focus on the degree distribution.\n",
    "\n",
    "We consider the empirical distributions of:\n",
    "* degrees in the Openflights graph,\n",
    "* in-degrees and out-degrees in the WikiVitals graph."
   ]
  },
  {
   "cell_type": "markdown",
   "metadata": {},
   "source": [
    "## To do"
   ]
  },
  {
   "cell_type": "markdown",
   "metadata": {},
   "source": [
    "For each of these distributions:\n",
    "* Plot the [tail distribution](https://en.wikipedia.org/wiki/Cumulative_distribution_function#Complementary_cumulative_distribution_function_(tail_distribution)) in log-log scale.\n",
    "* Conclude: do you consider that these are power-law graphs?"
   ]
  },
  {
   "cell_type": "code",
   "execution_count": 34,
   "metadata": {},
   "outputs": [],
   "source": [
    "def plot_loglog(degrees):\n",
    "    \"\"\"Plot the degree distribution in log-log scale and compare with that of a random graph.\n",
    "    \n",
    "    Parameters\n",
    "    ----------\n",
    "    degrees : array\n",
    "        vector of degrees of the graph.\n",
    "    \"\"\"\n",
    "    n = len(degrees)\n",
    "    # comparison with a random graph\n",
    "    p = np.sum(degrees) / n / (n-1) # link probability\n",
    "    adjacency_random = erdos_renyi(n, p)\n",
    "    degrees_random = get_degrees(adjacency_random)\n",
    "    plt.loglog(np.sort(degrees), 1 - np.arange(n) / n, lw = 3, label='Real graph')\n",
    "    plt.loglog(np.sort(degrees_random), 1 - np.arange(n) / n, lw = 3, label = 'Random graph')\n",
    "    plt.xlabel('Degree')\n",
    "    plt.ylabel('Probability')\n",
    "    plt.legend()\n",
    "    plt.show()"
   ]
  },
  {
   "cell_type": "code",
   "execution_count": 40,
   "metadata": {},
   "outputs": [
    {
     "data": {
      "image/png": "[encoded data removed]",
      "text/plain": [
       "<Figure size 640x480 with 1 Axes>"
      ]
     },
     "metadata": {},
     "output_type": "display_data"
    }
   ],
   "source": [
    "degrees_openflights = get_degrees(openflights.adjacency)\n",
    "plot_loglog(degrees_openflights)"
   ]
  },
  {
   "cell_type": "code",
   "execution_count": 42,
   "metadata": {},
   "outputs": [
    {
     "data": {
      "image/png": "[encoded data removed]",
      "text/plain": [
       "<Figure size 640x480 with 1 Axes>"
      ]
     },
     "metadata": {},
     "output_type": "display_data"
    }
   ],
   "source": [
    "degrees_wikivitals = get_degrees(wikivitals.adjacency)\n",
    "plot_loglog(degrees_wikivitals)"
   ]
  },
  {
   "cell_type": "markdown",
   "metadata": {},
   "source": [
    "## 3. Small-world property"
   ]
  },
  {
   "cell_type": "markdown",
   "metadata": {},
   "source": [
    "You will now make a few experiments highlighting the small-world property."
   ]
  },
  {
   "cell_type": "markdown",
   "metadata": {},
   "source": [
    "## To do\n",
    "\n",
    "* Give a shortest path from [Plato](https://en.wikipedia.org/wiki/Plato) to [Platini](https://en.wikipedia.org/wiki/Michel_Platini) in WikiVitals.<br>\n",
    "List the corresponding articles."
   ]
  },
  {
   "cell_type": "code",
   "execution_count": 35,
   "metadata": {},
   "outputs": [],
   "source": [
    "# graph of shortest paths\n",
    "node = 0\n",
    "adjacency_shortest_path = get_shortest_path(adjacency, node)"
   ]
  },
  {
   "cell_type": "code",
   "execution_count": 44,
   "metadata": {},
   "outputs": [
    {
     "data": {
      "text/plain": [
       "array([7108], dtype=int64)"
      ]
     },
     "execution_count": 44,
     "metadata": {},
     "output_type": "execute_result"
    }
   ],
   "source": [
    "dataset = wikivitals\n",
    "names = dataset.names\n",
    "np.argwhere(names == 'Plato').ravel()"
   ]
  },
  {
   "cell_type": "code",
   "execution_count": 45,
   "metadata": {},
   "outputs": [
    {
     "ename": "IndexError",
     "evalue": "index 7108 is out of bounds for axis 0 with size 3097",
     "output_type": "error",
     "traceback": [
      "\u001b[1;31m---------------------------------------------------------------------------\u001b[0m",
      "\u001b[1;31mIndexError\u001b[0m                                Traceback (most recent call last)",
      "Cell \u001b[1;32mIn[45], line 1\u001b[0m\n\u001b[1;32m----> 1\u001b[0m adjacency_shortest_path \u001b[38;5;241m=\u001b[39m \u001b[43mget_shortest_path\u001b[49m\u001b[43m(\u001b[49m\u001b[43madjacency\u001b[49m\u001b[43m,\u001b[49m\u001b[38;5;241;43m7108\u001b[39;49m\u001b[43m)\u001b[49m\n\u001b[0;32m      2\u001b[0m neighbors \u001b[38;5;241m=\u001b[39m get_neighbors(adjacency_shortest_path, \u001b[38;5;241m5893\u001b[39m, transpose\u001b[38;5;241m=\u001b[39m\u001b[38;5;28;01mTrue\u001b[39;00m)\n\u001b[0;32m      3\u001b[0m path \u001b[38;5;241m=\u001b[39m []\n",
      "File \u001b[1;32m~\\AppData\\Local\\Packages\\PythonSoftwareFoundation.Python.3.9_qbz5n2kfra8p0\\LocalCache\\local-packages\\Python39\\site-packages\\sknetwork\\path\\shortest_path.py:54\u001b[0m, in \u001b[0;36mget_shortest_path\u001b[1;34m(input_matrix, source, source_row, source_col, force_bipartite)\u001b[0m\n\u001b[0;32m     17\u001b[0m \u001b[38;5;28;01mdef\u001b[39;00m \u001b[38;5;21mget_shortest_path\u001b[39m(input_matrix: sparse\u001b[38;5;241m.\u001b[39mcsr_matrix, source: Optional[Union[\u001b[38;5;28mint\u001b[39m, Iterable]] \u001b[38;5;241m=\u001b[39m \u001b[38;5;28;01mNone\u001b[39;00m,\n\u001b[0;32m     18\u001b[0m                       source_row: Optional[Union[\u001b[38;5;28mint\u001b[39m, Iterable]] \u001b[38;5;241m=\u001b[39m \u001b[38;5;28;01mNone\u001b[39;00m,\n\u001b[0;32m     19\u001b[0m                       source_col: Optional[Union[\u001b[38;5;28mint\u001b[39m, Iterable]] \u001b[38;5;241m=\u001b[39m \u001b[38;5;28;01mNone\u001b[39;00m, force_bipartite: \u001b[38;5;28mbool\u001b[39m \u001b[38;5;241m=\u001b[39m \u001b[38;5;28;01mFalse\u001b[39;00m) \\\n\u001b[0;32m     20\u001b[0m         \u001b[38;5;241m-\u001b[39m\u001b[38;5;241m>\u001b[39m Union[np\u001b[38;5;241m.\u001b[39mndarray, Tuple[np\u001b[38;5;241m.\u001b[39mndarray, np\u001b[38;5;241m.\u001b[39mndarray], Tuple[np\u001b[38;5;241m.\u001b[39mndarray, np\u001b[38;5;241m.\u001b[39mndarray]]:\n\u001b[0;32m     21\u001b[0m \u001b[38;5;250m    \u001b[39m\u001b[38;5;124;03m\"\"\"Get the shortest paths from a source (or a set of sources) in number of hops.\u001b[39;00m\n\u001b[0;32m     22\u001b[0m \n\u001b[0;32m     23\u001b[0m \u001b[38;5;124;03m    Parameters\u001b[39;00m\n\u001b[1;32m   (...)\u001b[0m\n\u001b[0;32m     52\u001b[0m \u001b[38;5;124;03m           [0, 0, 0]])\u001b[39;00m\n\u001b[0;32m     53\u001b[0m \u001b[38;5;124;03m    \"\"\"\u001b[39;00m\n\u001b[1;32m---> 54\u001b[0m     distances \u001b[38;5;241m=\u001b[39m \u001b[43mget_distances\u001b[49m\u001b[43m(\u001b[49m\u001b[43minput_matrix\u001b[49m\u001b[43m,\u001b[49m\u001b[43m \u001b[49m\u001b[43msource\u001b[49m\u001b[43m,\u001b[49m\u001b[43m \u001b[49m\u001b[43msource_row\u001b[49m\u001b[43m,\u001b[49m\u001b[43m \u001b[49m\u001b[43msource_col\u001b[49m\u001b[43m,\u001b[49m\u001b[43m \u001b[49m\u001b[43mforce_bipartite\u001b[49m\u001b[43m)\u001b[49m\n\u001b[0;32m     55\u001b[0m     \u001b[38;5;28;01mif\u001b[39;00m \u001b[38;5;28mtype\u001b[39m(distances) \u001b[38;5;241m==\u001b[39m \u001b[38;5;28mtuple\u001b[39m:\n\u001b[0;32m     56\u001b[0m         adjacency \u001b[38;5;241m=\u001b[39m bipartite2undirected(input_matrix)\n",
      "File \u001b[1;32m~\\AppData\\Local\\Packages\\PythonSoftwareFoundation.Python.3.9_qbz5n2kfra8p0\\LocalCache\\local-packages\\Python39\\site-packages\\sknetwork\\path\\distances.py:79\u001b[0m, in \u001b[0;36mget_distances\u001b[1;34m(input_matrix, source, source_row, source_col, transpose, force_bipartite)\u001b[0m\n\u001b[0;32m     77\u001b[0m     \u001b[38;5;28;01mif\u001b[39;00m source \u001b[38;5;129;01mis\u001b[39;00m \u001b[38;5;28;01mNone\u001b[39;00m:\n\u001b[0;32m     78\u001b[0m         \u001b[38;5;28;01mraise\u001b[39;00m \u001b[38;5;167;01mValueError\u001b[39;00m(\u001b[38;5;124m'\u001b[39m\u001b[38;5;124mThe parameter source must be specified.\u001b[39m\u001b[38;5;124m'\u001b[39m)\n\u001b[1;32m---> 79\u001b[0m     \u001b[43mmask\u001b[49m\u001b[43m[\u001b[49m\u001b[43msource\u001b[49m\u001b[43m]\u001b[49m \u001b[38;5;241m=\u001b[39m \u001b[38;5;241m1\u001b[39m\n\u001b[0;32m     81\u001b[0m distances \u001b[38;5;241m=\u001b[39m \u001b[38;5;241m-\u001b[39mnp\u001b[38;5;241m.\u001b[39mones(n_nodes, dtype\u001b[38;5;241m=\u001b[39m\u001b[38;5;28mint\u001b[39m)\n\u001b[0;32m     82\u001b[0m distances[mask] \u001b[38;5;241m=\u001b[39m \u001b[38;5;241m0\u001b[39m\n",
      "\u001b[1;31mIndexError\u001b[0m: index 7108 is out of bounds for axis 0 with size 3097"
     ]
    }
   ],
   "source": [
    "adjacency_shortest_path = get_shortest_path(adjacency,7108)\n",
    "neighbors = get_neighbors(adjacency_shortest_path, 5893, transpose=True)\n",
    "path = []\n",
    "\n",
    "while 7108 not in neighbors:\n",
    "\tnew_neighbor = np.random.choice(neighbors)\n",
    "\tneighbors = get_neighbors(adjacency_shortest_path, new_neighbor, transpose=True)\n",
    "\tpath.append(new_neighbor)\n",
    "\n",
    "from IPython.display import SVG\n",
    "from sknetwork.visualization import visualize_graph\n",
    "\n",
    "indexes = path + [5893, 7108]\n",
    "filtered_adj = adjacency_shortest_path[indexes, :][:, indexes]\n",
    "image = visualize_graph(filtered_adj, names = names[indexes])\n",
    "SVG(image)"
   ]
  },
  {
   "cell_type": "markdown",
   "metadata": {},
   "source": [
    "## To do\n",
    "\n",
    "* Which fraction of the airports can be reached from **Paris Charles de Gaulle** in 1, 2, 3 flights?\n",
    "* Which fraction of the articles can be reached from **Paris** in 1, 2, 3 clicks on Wikipedia Vitals?"
   ]
  },
  {
   "cell_type": "code",
   "execution_count": 36,
   "metadata": {},
   "outputs": [],
   "source": [
    "# distances\n",
    "node = 0\n",
    "distances = get_distances(adjacency, 0)"
   ]
  },
  {
   "cell_type": "code",
   "execution_count": null,
   "metadata": {},
   "outputs": [],
   "source": [
    "dataset = openflights\n",
    "adjacency = dataset.adjacency\n",
    "\n",
    "node = 0"
   ]
  },
  {
   "cell_type": "markdown",
   "metadata": {},
   "source": [
    "## To do\n",
    "\n",
    "* Compute the [Bacon number](https://fr.wikipedia.org/wiki/Six_Degrees_of_Kevin_Bacon) of all actors (**without** building the co-starring actor graph).\n",
    "* Plot the corresponding histogram."
   ]
  },
  {
   "cell_type": "code",
   "execution_count": 37,
   "metadata": {},
   "outputs": [],
   "source": [
    "dataset = cinema\n",
    "# biadjacency matrix\n",
    "biadjacency = dataset.biadjacency\n",
    "movies = dataset.names_row\n",
    "actors = dataset.names_col\n"
   ]
  },
  {
   "cell_type": "markdown",
   "metadata": {},
   "source": [
    "## 4. Clustering coefficient"
   ]
  },
  {
   "cell_type": "markdown",
   "metadata": {},
   "source": [
    "Finally, we check the clustering property of real graphs (my friends tend to be friends)."
   ]
  },
  {
   "cell_type": "markdown",
   "metadata": {},
   "source": [
    "## To do\n",
    "\n",
    "\n",
    "* Compute the clustering coefficient of Openflights.\n",
    "* Compare with that of a random graph of same size and same average degree."
   ]
  },
  {
   "cell_type": "code",
   "execution_count": 38,
   "metadata": {},
   "outputs": [],
   "source": [
    "dataset = openflights\n",
    "adjacency = dataset.adjacency"
   ]
  },
  {
   "cell_type": "code",
   "execution_count": 39,
   "metadata": {},
   "outputs": [
    {
     "data": {
      "text/plain": [
       "0.25107219520077"
      ]
     },
     "execution_count": 39,
     "metadata": {},
     "output_type": "execute_result"
    }
   ],
   "source": [
    "get_clustering_coefficient(adjacency)"
   ]
  }
 ],
 "metadata": {
  "anaconda-cloud": {},
  "hide_input": false,
  "kernelspec": {
   "display_name": "Python 3 (ipykernel)",
   "language": "python",
   "name": "python3"
  },
  "language_info": {
   "codemirror_mode": {
    "name": "ipython",
    "version": 3
   },
   "file_extension": ".py",
   "mimetype": "text/x-python",
   "name": "python",
   "nbconvert_exporter": "python",
   "pygments_lexer": "ipython3",
   "version": "3.9.13"
  }
 },
 "nbformat": 4,
 "nbformat_minor": 1
}
